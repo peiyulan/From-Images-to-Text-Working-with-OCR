{
  "nbformat": 4,
  "nbformat_minor": 0,
  "metadata": {
    "colab": {
      "provenance": [],
      "toc_visible": true,
      "include_colab_link": true
    },
    "kernelspec": {
      "name": "python3",
      "display_name": "Python 3"
    },
    "language_info": {
      "name": "python"
    }
  },
  "cells": [
    {
      "cell_type": "markdown",
      "metadata": {
        "id": "view-in-github",
        "colab_type": "text"
      },
      "source": [
        "<a href=\"https://colab.research.google.com/github/peiyulan/From-Images-to-Text-Working-with-OCR/blob/main/ImageToTextOCR.ipynb\" target=\"_parent\"><img src=\"https://colab.research.google.com/assets/colab-badge.svg\" alt=\"Open In Colab\"/></a>"
      ]
    },
    {
      "cell_type": "markdown",
      "source": [
        "\n",
        "# **Welcome: From Images to Text: Working with OCR**\n"
      ],
      "metadata": {
        "id": "5LAarKZlJZBi"
      }
    },
    {
      "cell_type": "markdown",
      "source": [
        "## Overview\n",
        "\n",
        "This course provides an overview of Optical Character Recognition (OCR), an image processing technique for extracting text from images.\n",
        "\n",
        "The resource covers the following sections to help you learn and start to apply OCR in research practice:\n",
        "\n",
        "- What is text extraction and OCR?\n",
        "- What are the real-world application of OCR?\n",
        "- What challenges might you face when using OCR and how can you address them?\n",
        "\n",
        "We will learn the fundamental concepts and implement OCR techniques through the following activities:\n",
        "\n",
        "- Activity 1: [Write down your OCR Workflow](https://colab.research.google.com/github/peiyulan/From-Images-to-Text-Working-with-OCR/blob/main/ImageToTextOCR.ipynb#scrollTo=7Wcz0_MXQ4kV&line=1&uniqifier=1)\n",
        "- Activity 2: [Inspect the Files](https://colab.research.google.com/github/peiyulan/From-Images-to-Text-Working-with-OCR/blob/main/ImageToTextOCR.ipynb#scrollTo=XJnrZo-EYr6M&line=1&uniqifier=1)\n",
        "- Activity 3: [Online OCR Engine](https://colab.research.google.com/github/peiyulan/From-Images-to-Text-Working-with-OCR/blob/main/ImageToTextOCR.ipynb#scrollTo=a089BvORcV43&line=1&uniqifier=1)\n",
        "- Activity 4: [Clean Your Text with Regex](https://colab.research.google.com/github/peiyulan/From-Images-to-Text-Working-with-OCR/blob/main/ImageToTextOCR.ipynb#scrollTo=55P-TGaAmkt4&line=1&uniqifier=1)\n",
        "- Activity 6: []"
      ],
      "metadata": {
        "id": "3hm6uw_UaSGQ"
      }
    },
    {
      "cell_type": "markdown",
      "source": [
        "> 👋 New to Google Colab and Python? No worries! Let's get you started by running the code snippet below to make sure everything is working properly for you. It's a great way to take your first steps into coding!"
      ],
      "metadata": {
        "id": "yjBHVUNPnb7B"
      }
    },
    {
      "cell_type": "code",
      "source": [
        "print(\"Enter your name and press enter:\")\n",
        "name = input()\n",
        "print(\"\\r\")\n",
        "print(\"Hello {}, welcome to the CDCS Image to Text with OCR workshop!\".format(name))"
      ],
      "metadata": {
        "id": "9cH3wNj1nWx3",
        "outputId": "fb0ac633-0ba0-4698-a4e0-2785259ee96f",
        "colab": {
          "base_uri": "https://localhost:8080/"
        }
      },
      "execution_count": null,
      "outputs": [
        {
          "output_type": "stream",
          "name": "stdout",
          "text": [
            "Enter your name and press enter:\n",
            "Joy\n",
            "\n",
            "Hello Joy, welcome to the CDCS Image to Text with OCR workshop!\n"
          ]
        }
      ]
    },
    {
      "cell_type": "markdown",
      "source": [
        "\n",
        "\n",
        "---\n",
        "\n"
      ],
      "metadata": {
        "id": "OgyNjtzloQ1m"
      }
    },
    {
      "cell_type": "markdown",
      "source": [
        "# **What is OCR?**"
      ],
      "metadata": {
        "id": "2sH-oL7VMt40"
      }
    },
    {
      "cell_type": "markdown",
      "source": [
        "## **O**ptical **C**haracter **R**ecognition\n",
        "- OCR is a technique to process images of text, such as written or printed documents, and produce **machine-readable** documents.\n",
        "- Machine-readable documents are encoded in formats that computers can process, which allow the text to be searched, edited and analysed computationally"
      ],
      "metadata": {
        "id": "Gk-DcHSGO9RT"
      }
    },
    {
      "cell_type": "markdown",
      "source": [
        "## Real-world examples of OCR\n",
        "\n",
        "- Scanning your passport at the airport\n",
        "- Generate machine-readable text for text-to-speech technology.\n",
        "- Making digitalised physical archives searchable.​\n",
        "- Creating a dataset of for text mining or\n",
        "text analysis.​\n",
        "\n"
      ],
      "metadata": {
        "id": "u4Xf8PprU1em"
      }
    },
    {
      "cell_type": "markdown",
      "source": [
        "## OCR Workflow\n",
        "\n",
        "OCR is a multi-step process and we'll examine this as we move through the lesson.\n",
        "\n",
        "\n",
        "\n",
        "\n",
        "1.   **Document selection**: An image or text document needs to be selected to scan.\n",
        "2.   **Scanning**: The images are then scanned by OCR software. This generates a machine-readable text output.\n",
        "3.   **Cleaning** :Once you have an OCR output, extra steps to clean the files might be need to improve accuracy.\n",
        "4.   **Saving files**: the machine-readable documents can be saved and are to use.\n",
        "\n"
      ],
      "metadata": {
        "id": "wiE18XX8Uz0o"
      }
    },
    {
      "cell_type": "markdown",
      "source": [
        "## ✏️ *Activity 1: Write Down Your OCR Workflow*  \n",
        "\n",
        "\n",
        "- Identify a dataset (images of text)\n",
        "that you might use in your research​.\n",
        "\n",
        "- Write the steps to obtained encoded\n",
        "text from your dataset.​\n",
        "\n",
        "- Identify potential source of errors or\n",
        "issues in each step, and discuss how\n",
        "you might address them.​\n",
        "\n",
        "- Share your dataset, workflow, and\n",
        "plan with your small group.​\n",
        "\n",
        "\n",
        "\n"
      ],
      "metadata": {
        "id": "7Wcz0_MXQ4kV"
      }
    },
    {
      "cell_type": "markdown",
      "source": [
        "# **Challange and Error of OCR**"
      ],
      "metadata": {
        "id": "xbsjNGskfWhJ"
      }
    },
    {
      "cell_type": "markdown",
      "source": [
        "Unfortunately, text recognition is not a perfect process, and you are likely to encounter problems or errors in the text outputs.\n",
        "\n",
        "The accuracy of OCR can be limited by the **OCR engine capability**:\n",
        "- file size\n",
        "- format of the input files\n",
        "- text orientation\n",
        "- language it can process\n",
        "\n",
        "It also depends on **dataset quality, formatting of the origianl documents:**\n",
        "- Human errors and typos​\n",
        "- Age and damage (stained or blurry)​\n",
        "- Mixed text and images, or multiple\n",
        "languages​\n",
        "- Cursive handwriting​"
      ],
      "metadata": {
        "id": "zsDtYhJ7myzl"
      }
    },
    {
      "cell_type": "markdown",
      "source": [
        "# **Ways to improve OCR accuracy**\n",
        "\n",
        "While the accuracy or OCR will never be 100%, there are ways to reduce errors and imrove OCR accuracy:\n",
        "\n",
        "- Select good quality dataset to begin with​\n",
        "\n",
        "- Pre-process your dataset to improve its quality​\n",
        "\n",
        "- Correct errors in OCR-produced files\n",
        "\n",
        "- Improve OCR engine capability​"
      ],
      "metadata": {
        "id": "V-4lKsJUasXO"
      }
    },
    {
      "cell_type": "markdown",
      "source": [
        "\n",
        "\n",
        "---\n",
        "\n"
      ],
      "metadata": {
        "id": "o-oDcG13lR89"
      }
    },
    {
      "cell_type": "markdown",
      "source": [
        "# Dataset Selection\n",
        "\n",
        "Selecting good quality data to start with means that you don’t need to edit and process your image too much from the beginning. Key considerations include:\n",
        "\n",
        "\n",
        "\n",
        "\n",
        "\n"
      ],
      "metadata": {
        "id": "C-jD-ZQnTcLe"
      }
    },
    {
      "cell_type": "markdown",
      "source": [
        "**Image resolution**\n",
        "\n",
        "Set a minimum DPI metric. DPI means ‘Dots Per Inch’ and means that every inch of an image contains a certain number of dots of ink. 300 DPI is often used as a benchmark for good quality printing reproducibility for photographs, but this may vary.  \n",
        "\n",
        "**Types of error**\n",
        "\n",
        "By checking the documents or sample documents, you can identify the patterns documents that might cause errors during scanning and reduece the work required for clearning the files afterwards.\n",
        "\n",
        "Some \"patterned\" or \"predictable\" error can be fixed commutationally using software or programming patches:\n",
        "\n",
        "*   **Characters that appear similar** can be misrecognised, for example ‘cl’ and ‘d’, or ‘rn’ and ‘m’, which results in the incorrect substitution of a letter or letters. E.g. ‘clean’ becomes recognised as ‘dean’.\n",
        "*   **Different letter forms**, such as in some older historical materials a different form of 's' is used. This is called a long s and looks like this 'ſ', which is often mis-recognised as an 'f' character.\n",
        "E.g. ſleeve [sleeve] -> fleeve\n",
        "\n",
        "\n",
        "Some error is unpredictable and therefore more difficult to be tackeled, such as:\n",
        "- Age and damage of the files (stained or blurry)\n",
        "- Human error such as typo​s and smelling variations\n",
        "- Mixed formating, text and images\n",
        "- Cursive handwriting​\n"
      ],
      "metadata": {
        "id": "eAdl_pmPkFiz"
      }
    },
    {
      "cell_type": "markdown",
      "source": [
        "## ✏️ *Activity 2: Inspect the Files*  \n",
        "\n",
        "*   Identify issues you might encounter when processing the following documents.  ​\n",
        "- Are there any steps you could take to\n",
        "preprocessing the document that might\n",
        "improve the output accuracy?​\n",
        "\n",
        "​\n"
      ],
      "metadata": {
        "id": "XJnrZo-EYr6M"
      }
    },
    {
      "cell_type": "markdown",
      "source": [
        "![](https://github.com/DCS-training/Image-to-Tech-Text-Extraction/blob/main/Github%20Images/Image1.jpg?raw=true)\n"
      ],
      "metadata": {
        "id": "2TnaBMHr0BAq"
      }
    },
    {
      "cell_type": "markdown",
      "source": [
        "Document 1: image above from the Scottish Session Papers collection held by the University of Edinburgh, shelfmark [EUL0011](https://librarylabs.ed.ac.uk/iiif/uv/?manifest=https://librarylabs.ed.ac.uk/iiif/manifest/sessionpapers/volumes/EUL0011.json#?c=0&m=0&s=0&cv=21&xywh=-510%2C0%2C9022%2C5263) under a [CC BY 3.0](https://creativecommons.org/licenses/by/3.0/) licence."
      ],
      "metadata": {
        "id": "JwrEsB021DBz"
      }
    },
    {
      "cell_type": "markdown",
      "source": [
        "![](https://github.com/DCS-training/Image-to-Tech-Text-Extraction/blob/main/Github%20Images/Image2.jpg?raw=true)"
      ],
      "metadata": {
        "id": "YGNsId7007AV"
      }
    },
    {
      "cell_type": "markdown",
      "source": [
        "Document 2: image above from the Scottish Session Papers collection held by the University of Edinburgh, shelfmark [EUL0281](https://librarylabs.ed.ac.uk/iiif/uv/?manifest=https://librarylabs.ed.ac.uk/iiif/manifest/sessionpapers/volumes/EUL0281.json#?c=0&m=0&s=0&cv=0&xywh=-2584%2C-252%2C8636%2C5038) under a [CC BY 3.0](https://creativecommons.org/licenses/by/3.0/) licence."
      ],
      "metadata": {
        "id": "qEuMQOuo1PsO"
      }
    },
    {
      "cell_type": "markdown",
      "source": [
        "# **Pre-processing**\n",
        "\n",
        "Once you identify the dataset, preparing your files for scanning can help to produce better outputs after scanning. There are a few ways to do this:"
      ],
      "metadata": {
        "id": "mvutqiSaQMc_"
      }
    },
    {
      "cell_type": "markdown",
      "source": [
        "**Image colour**\n",
        "\n",
        "The colour of your images can impact text quality too; colour images can be used, but ensure there is a sharp contrast between the background page and the text itself (for example black text on white or cream paper).\n",
        "**Text orientation:**\n",
        "The orientation of your text is also important in text recognition as the letters that your OCR engine tries to match against will be the ‘right’ way up and straight on the page, so making sure that the text in the documents you upload is ‘straight on’ in the document or image will produce the best results.\n",
        "\n",
        "**File format:**\n",
        "\n",
        "Some OCR engines will only accept certain file formats, so it is best to check this in advance; some will only use image files, whereas others will work on PDF files. Common image file types are TIFF, JPEG and PNG.\n",
        "\n",
        "TIFF files are lossless files, meaning that no image quality or information is lost; this means that TIFF images are usually high quality but also much larger file sizes. PNGs are also lossless, although TIFF files would be preferred over PNGs for OCR.\n",
        "\n",
        "JPEGs are a lossy format type, meaning that the image is compressed to create a smaller file size. OCR engines can work with JPEGs, but there may be a loss of image quality that can impact the text generation."
      ],
      "metadata": {
        "id": "1SYT_XJpc12A"
      }
    },
    {
      "cell_type": "markdown",
      "source": [
        "# Scanning\n",
        "\n",
        "Now we're going to try some OCR ourselves with out-of-the-box options."
      ],
      "metadata": {
        "id": "8wc8tAY7uDf2"
      }
    },
    {
      "cell_type": "markdown",
      "source": [
        "## ✏️ *Activity 3: Online OCR Engine*  \n",
        " Choose a pdf that contains text and try uploading it into some of these online programmes:\n",
        "*   https://tools.pdf24.org/en/ocr-pdf   \n",
        "*   https://www.onlineocr.net/   \n",
        "*   https://www.sodapdf.com/ocr-pdf/   \n",
        "*   https://www.sejda.com/ocr-pdf   \n",
        "*   https://ocr.space/   \n",
        "*   https://avepdf.com/pdf-ocr   \n",
        "\n",
        "\n",
        "\n",
        "\n",
        "\n",
        "\n",
        "\n"
      ],
      "metadata": {
        "id": "a089BvORcV43"
      }
    },
    {
      "cell_type": "markdown",
      "source": [
        "\n",
        "\n",
        "Compare your results - which performed best? What are the limitations of these options?\n",
        "\n",
        "\n"
      ],
      "metadata": {
        "id": "fJ28M7EXeUpn"
      }
    },
    {
      "cell_type": "markdown",
      "source": [
        "# **Cleaning**\n",
        "\n",
        "**Manually remove errors**\n",
        "\n",
        "Read through the text and manually change what needs to be changed – this is one option to create a high-quality text with your corrections, however, it can be time and effort consuming\n",
        "\n",
        "\n",
        "**Patches and Machine Learning techniques**:\n",
        "Certain software have an embedded lexicon or dictionary that can be used to identify incorrect vocabulary and correct likely words based on the lexicon and calculated probability of correct words.\n",
        "\n",
        "**Regex**\n",
        "\n",
        "Regex (or regular expressions) is a type of shorthand code you can use to specify which parts of text you would like to target and how you would like to change these."
      ],
      "metadata": {
        "id": "jcbm0j_3bSE3"
      }
    },
    {
      "cell_type": "markdown",
      "source": [
        "OCR has been developing at a significant rate over the past twenty years and newer OCR is faster and more accurate than older software, but it is still liable to errors."
      ],
      "metadata": {
        "id": "GICMHGOLYnJs"
      }
    },
    {
      "cell_type": "markdown",
      "source": [
        "## Regex (Regular Expressions)\n",
        "\n",
        "Regular expressions or regex are a way to identify and match patterns via code and is used in a range of different programming environments.\n",
        "\n",
        "Regex is a powerful way to find, manage and transform your data and files. It uses sequences of characters to define a search to match strings. You can use regex to:\n",
        "*   Match types of characters (e.g. ‘upper case letters’, ‘digits’, ‘spaces’, etc.)  \n",
        "*   Match patterns that repeat any number of times\n",
        "\n"
      ],
      "metadata": {
        "id": "lw3hTn6Qbflm"
      }
    },
    {
      "cell_type": "markdown",
      "source": [
        "There are far too many to remember off the top of your head, so online cheat sheets are your best option."
      ],
      "metadata": {
        "id": "zADs6X-ocJm4"
      }
    },
    {
      "cell_type": "markdown",
      "source": [
        "Check out the following webpages for different patterns:\n",
        "\n",
        "*   [Cleaning OCR’d text with Regular Expressions](https://programminghistorian.org/en/lessons/cleaning-ocrd-text-with-regular-expressions)\n",
        "- [Regex cheat sheet ](https://www.rexegg.com/regex-quickstart.php)"
      ],
      "metadata": {
        "id": "xtxAa9aaugA2"
      }
    },
    {
      "cell_type": "markdown",
      "source": [
        "Here are some examples of what you can do with regex.\n",
        "\n",
        "> Don't worry, you don't need to understand how this all works, but if you click the 'run' button at the left side of the code module it will run the code and show you the results.\n",
        "\n"
      ],
      "metadata": {
        "id": "-OYSoOSssxmc"
      }
    },
    {
      "cell_type": "markdown",
      "source": [
        "## ✏️ *Activity 4: Clean Your Text with Regex*  "
      ],
      "metadata": {
        "id": "55P-TGaAmkt4"
      }
    },
    {
      "cell_type": "markdown",
      "source": [
        "Example 1:\n",
        "- search and replace where long 's' with modern 's' characters.\n",
        "\n",
        "\"Thiſ iſ my extracted text, but it doeſn't look right\""
      ],
      "metadata": {
        "id": "AB3yRlUkvRxQ"
      }
    },
    {
      "cell_type": "code",
      "source": [
        "import requests\n",
        "filepath = \"https://raw.githubusercontent.com/peiyulan/From-Images-to-Text-Working-with-OCR/refs/heads/main/data/ocrtext_1.txt\"\n",
        "\n",
        "req = requests.get(infile)\n",
        "text = req.text\n",
        "print(text)"
      ],
      "metadata": {
        "id": "NzwCjqFysq6K",
        "outputId": "b2f83b93-8eb8-4dc2-a6e9-c176724a59ee",
        "colab": {
          "base_uri": "https://localhost:8080/"
        }
      },
      "execution_count": 19,
      "outputs": [
        {
          "output_type": "stream",
          "name": "stdout",
          "text": [
            "UNTO THE RIGHT HONOURABLE,\n",
            "The Lords of Council and Seffion,\n",
            "THE\n",
            "PETITION\n",
            "O F\n",
            "JAMES FEA of Cleftrain;\n",
            "HUMBLY SHEWETH,\n",
            "HAT in the proces, at the intance of the petitioner; againft Chriftian Webfter, for fetting afide a bond of 120l. 11s. 7d. Sterling, granted by him to the defender; after various proceedings, the Lord Au-\n",
            "chinleck Ordinary pronounced the following interlocutor: \" In Feb. 17-\n",
            "\" refpect that Mr. Fea does not plead that he is imbecile or 1773.\n",
            "\" weak, and that it is agreed on all hands, that the chief caufe\n",
            "\" of the bond was for a remuneration to Chriftian Webfter, for\n",
            "\" the fatigue the underwent, and the remarkable care the took\n",
            "\" of Cleftrain, who died in her father's houfe, and to whom\n",
            "\" Mr. Fea, though not his neareft relation, fucceeded by difpo-\n",
            "\" fition, and that Cleftrain was at liberty to give her what re-\n",
            "\" muneration he thought fit, and gave her the bond now in\n",
            "\"queltion; he, the purfuer, cannot be heard to impugn that\n",
            "\" bond,,\n",
            "\n"
          ]
        }
      ]
    },
    {
      "cell_type": "code",
      "source": [
        "#import re module\n",
        "import re\n",
        "\n",
        "#identify the text we wish to correct\n",
        "text = \"Thiſ iſ my extracted text, but it doeſn't look right\"\n",
        "\n",
        "#this is the pattern we want to find with the long 's' character\n",
        "pattern = r\"ſ\"\n",
        "\n",
        "#here we substitute the pattern (wrong character) for the right character - 'print' displays the corrections we have made\n",
        "print(re.sub(pattern, \"s\", text))"
      ],
      "metadata": {
        "colab": {
          "base_uri": "https://localhost:8080/"
        },
        "id": "A0khEReLl_MG",
        "outputId": "2eecf7df-2954-4bbb-fec9-7909bfa832e9"
      },
      "execution_count": null,
      "outputs": [
        {
          "output_type": "stream",
          "name": "stdout",
          "text": [
            "This is my extracted text, but it doesn't look right\n"
          ]
        }
      ]
    },
    {
      "cell_type": "markdown",
      "source": [
        "Example 2: join up words that are split across lines with hyphens:\n",
        "\n",
        "\"This is my ex-\n",
        "\n",
        "tracted text but now it is split\n",
        "a-\n",
        "\n",
        "cross lines“"
      ],
      "metadata": {
        "id": "6xOB2Zvyvs3m"
      }
    },
    {
      "cell_type": "code",
      "source": [
        "#import re module\n",
        "import re\n",
        "\n",
        "#identify the text we wish to correct\n",
        "import requests\n",
        "filepath = \"https://raw.githubusercontent.com/peiyulan/From-Images-to-Text-Working-with-OCR/refs/heads/main/data/ocrtext_1.txt\"\n",
        "\n",
        "req = requests.get(filepath)\n",
        "text = req.text\n",
        "print(text)\n",
        "\n",
        "#join hyphenated words across lines\n",
        "result = re.sub(r'\\n\"', '', text)\n",
        "print(x)\n",
        "\n",
        "\n",
        "#display the result, removing the hyphens to join up the words\n",
        "print(result)"
      ],
      "metadata": {
        "colab": {
          "base_uri": "https://localhost:8080/"
        },
        "id": "NCDlECsKtw72",
        "outputId": "c605dc4e-9afc-4494-fbb3-c07002d3740f"
      },
      "execution_count": 53,
      "outputs": [
        {
          "output_type": "stream",
          "name": "stdout",
          "text": [
            "UNTO THE RIGHT HONOURABLE,\n",
            "The Lords of Council and Seffion,\n",
            "THE\n",
            "PETITION\n",
            "O F\n",
            "JAMES FEA of Cleftrain;\n",
            "HUMBLY SHEWETH,\n",
            "HAT in the proces, at the intance of the petitioner; againft Chriftian Webfter, for fetting afide a bond of 120l. 11s. 7d. Sterling, granted by him to the defender; after various proceedings, the Lord Au-\n",
            "chinleck Ordinary pronounced the following interlocutor: \" In Feb. 17-\n",
            "\" refpect that Mr. Fea does not plead that he is imbecile or 1773.\n",
            "\" weak, and that it is agreed on all hands, that the chief caufe\n",
            "\" of the bond was for a remuneration to Chriftian Webfter, for\n",
            "\" the fatigue the underwent, and the remarkable care the took\n",
            "\" of Cleftrain, who died in her father's houfe, and to whom\n",
            "\" Mr. Fea, though not his neareft relation, fucceeded by difpo-\n",
            "\" fition, and that Cleftrain was at liberty to give her what re-\n",
            "\" muneration he thought fit, and gave her the bond now in\n",
            "\"queltion; he, the purfuer, cannot be heard to impugn that\n",
            "\" bond,,\n",
            "\n",
            "None\n",
            "UNTO THE RIGHT HONOURABLE,\n",
            "The Lords of Council and Seffion,\n",
            "THE\n",
            "PETITION\n",
            "O F\n",
            "JAMES FEA of Cleftrain;\n",
            "HUMBLY SHEWETH,\n",
            "HAT in the proces, at the intance of the petitioner; againft Chriftian Webfter, for fetting afide a bond of 120l. 11s. 7d. Sterling, granted by him to the defender; after various proceedings, the Lord Au-\n",
            "chinleck Ordinary pronounced the following interlocutor: \" In Feb. 17- refpect that Mr. Fea does not plead that he is imbecile or 1773. weak, and that it is agreed on all hands, that the chief caufe of the bond was for a remuneration to Chriftian Webfter, for the fatigue the underwent, and the remarkable care the took of Cleftrain, who died in her father's houfe, and to whom Mr. Fea, though not his neareft relation, fucceeded by difpo- fition, and that Cleftrain was at liberty to give her what re- muneration he thought fit, and gave her the bond now inqueltion; he, the purfuer, cannot be heard to impugn that bond,,\n",
            "\n"
          ]
        }
      ]
    },
    {
      "cell_type": "markdown",
      "source": [
        "# 🟢 Printed Text Recognition with Python pytesseract"
      ],
      "metadata": {
        "id": "c7wRpaO0oOoG"
      }
    },
    {
      "cell_type": "markdown",
      "source": [
        "# 🟢 **Handwritten Text Recognition with Python trOCR**\n",
        "\n",
        "**H**andrwitten **T**ext **R**ecognition (HTR) is another method of text extraction, although it is in the earlier stages of development than OCR is.\n",
        "Unlike OCR, which is best used on printed text, HTR engines are designed to be run on handwritten text and often use machine learning models to intelligently recognise text.\n"
      ],
      "metadata": {
        "id": "3dchfHlWiJm2"
      }
    },
    {
      "cell_type": "markdown",
      "source": [
        "## ✏️ *Activity 6*  \n",
        "\n",
        "[Transkribus](https://readcoop.eu/transkribus/) is one of the leading options in HTR; although designed for handwritten text, it can also be used on printed text.\n",
        "\n",
        "*   Try uploading an image (PNG or JPG) of handwritten and/or printed text to their website https://readcoop.eu/transkribus/\n",
        "\n",
        "*   How does changing the language used impact your results?\n",
        "\n",
        "\n",
        "**Disclaimer*: Transkribus operates on a paid credit model, but the test option outlined above is free. Sign up is free and includes a small number of credits when [joining](https://readcoop.eu/transkribus/credits/).\n",
        "\n"
      ],
      "metadata": {
        "id": "1bqz82-N2A1k"
      }
    },
    {
      "cell_type": "markdown",
      "source": [
        "# **Resources List**\n",
        "\n",
        "**Tutorials**\n",
        "\n",
        "Centre for Data, Culture and Society. \"Text Extraction & Preparation,\" Managing Digitised Documents (2022), https://www.cdcs.ed.ac.uk/training/training-pathways/managing-digitised-documents-pathway [accessed 23 July 2023].\n",
        "\n",
        "Knox, Doug. \"Understanding Regular Expressions,\" Programming Historian 2 (2013), https://doi.org/10.46430/phen0033 [accessed 23 July 2023].\n",
        "\n",
        "Turner O'Hara, Laura. \"Cleaning OCR’d text with Regular Expressions,\" Programming Historian 2 (2013), https://doi.org/10.46430/phen0024 [accessed 23 July 2023].\n",
        "\n",
        "Library Carpentry. \"Introduction to Working with Data (Regular Expressions)\" (2023), https://librarycarpentry.org/lc-data-intro/01-regular-expressions.html [accessed 23 July 2023].\n",
        "\n",
        "---\n",
        "**Readings**\n",
        "\n",
        "Cordell, Ryan. ‘“Q i-Jtb the Raven”: Taking Dirty OCR Seriously’. Book History 20, no. 1 (2017): 188–225. https://doi.org/10.1353/bh.2017.0006 [accessed 23 July 2023].\n",
        "\n",
        "Schantz, Herbert F. The History of OCR, Optical Character Recognition. [Manchester Center, Vt.] : Recognition Technologies Users Association, (1982) http://archive.org/details/historyofocropti0000scha [accessed 23 July 2023].\n"
      ],
      "metadata": {
        "id": "Jh1bgAvnxJwx"
      }
    },
    {
      "cell_type": "markdown",
      "source": [
        "# **Activity Notes**\n",
        "\n",
        "\n",
        "## ✏️ Activity 1\n",
        "Even if you have not heard of OCR or are not sure if you have used it, you probably have! Here are some real-world examples of text recognition uses:\n",
        "\n",
        "*   Using the airport’s e-Passport Gates\n",
        "*   Translating text with language recognition\n",
        "*   Searching a digital database of historical public records\n",
        "*   Searching a PDF file\n",
        "\n",
        "## ✏️ Activity 2\n",
        "If you are not sure what to choose as your dataset, imagine you are digitising a book; think of your favourite book or try browsing the following website to find examples you could use:\n",
        "\n",
        "*   https://openbooks.is.ed.ac.uk/\n",
        "\n",
        "Don't forget that the type of materials you choose will impact your OCR, and different material types might need slightly different considerations for selecting OCR software or anticipating problems.\n",
        "\n",
        "\n",
        "\n",
        "## ✏️ Activity 3\n",
        "This list is not exhaustive but will cover some of the potential issues you might have picked out:\n",
        "\n",
        "Document 1:\n",
        "\n",
        "*   There are marks on the top left of the page that might be picked up by accident\n",
        "*   The text uses the long 's' form that may be mistaken for an 'f'\n",
        "*   You can see text coming through from other pages, depending on the OCR engine, this could be picked up\n",
        "*   Sometimes spacing between letters can cause issues, and the individual letters will be picked up rather than the entire word, for example with 'PETITION'\n",
        "\n",
        "Overall the image is clear, there is a good light balance and the text is quite straight on the page.\n",
        "\n",
        "Document 2:\n",
        "\n",
        "*   There are lots of marks and darlk spots on the page that may be picked up by the text recognition\n",
        "*   There are lots of creases in the page, meaning that some of the lettering is a little warped and may not be picked up correctly\n",
        "*   There is some text coming through from the other side of the page, although this is not as dark as in the previous example\n",
        "*   Some of the writing is very small and appears to be smudged in printing, which may mean that letters are misrecognised\n",
        "\n",
        "Overall, the text looks clear in some places, however the physical condition of the item is likely to impact the OCR done on this item due to the creases and marks on the page.\n",
        "\n",
        "## ✏️ Activity 4\n",
        "Any text extraction software or programme you decide to use will need to be evaluated - was it effective for the materials, or if not, why not? The limitations of OCR outputs are important to consider too - if you are only looking at a small quantity of text then you may be able to manually correct as much as you need to. If you are working with larger quantities of text this may not be the case and you will need to choose the best-performing option and do additional clean up with programming, or establish a suitable level of acceptable errors.\n",
        "\n",
        "\n",
        "## ✏️ Activity 5\n",
        "Transkribus has models designed for handwriting and print because they are trained on either handwritten text or printed text, to produce the vest results possible for the different types of materials. The same goes for different languages and some of the models distinguish between different fonts or handwriting types. If you play around with the model types and images you use, you should see a difference in output quality.\n",
        "\n",
        "\n",
        "\n",
        "\n",
        "\n",
        "\n"
      ],
      "metadata": {
        "id": "1qDfI1cqDHI3"
      }
    }
  ]
}